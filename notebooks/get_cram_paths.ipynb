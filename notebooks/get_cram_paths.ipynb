{
 "cells": [
  {
   "cell_type": "code",
   "execution_count": null,
   "id": "a849b94f",
   "metadata": {},
   "outputs": [],
   "source": [
    "# This requires some libraries to be installed. These should be at the root level\n",
    "# of the repository in a requirements.txt file\n",
    "\n",
    "# assuming you have conda installed, good practice would be to create a virtual environment per repository\n",
    "# $ conda create -n rd_venv python=3.10\n",
    "# $ conda activate rd_venv\n",
    "# this should show the active environment on the prompt\n",
    "# $ (rd_venv) conda install --file requirements.txt"
   ]
  },
  {
   "cell_type": "code",
   "execution_count": null,
   "id": "b3c08339",
   "metadata": {},
   "outputs": [],
   "source": [
    "from cloudpathlib import AnyPath"
   ]
  },
  {
   "cell_type": "code",
   "execution_count": null,
   "id": "a30b7cde",
   "metadata": {},
   "outputs": [],
   "source": [
    "# set a string value for 'where to look for files'\n",
    "cram_path = 'gs://cpg-perth-neuro-test/cram'"
   ]
  },
  {
   "cell_type": "code",
   "execution_count": null,
   "id": "fbb4294c",
   "metadata": {},
   "outputs": [],
   "source": [
    "# create an AnyPath connection to the location \n",
    "# https://cloudpathlib.drivendata.org/stable/api-reference/anypath/\n",
    "# cloudpathlib will see that this is a gs:// path, so AnyPath will really be a CloudPath\n",
    "# https://cloudpathlib.drivendata.org/stable/api-reference/cloudpath/\n",
    "cram_path = AnyPath(cram_path)"
   ]
  },
  {
   "cell_type": "code",
   "execution_count": null,
   "id": "46797032",
   "metadata": {},
   "outputs": [],
   "source": [
    "# check that the path is assigned accurately? Asserts are either True, or will raise an AssertionError\n",
    "assert cram_path.exists()"
   ]
  },
  {
   "cell_type": "code",
   "execution_count": null,
   "id": "5a996e87",
   "metadata": {},
   "outputs": [],
   "source": [
    "# list all the files present in that folder\n",
    "# this produces a generator, not a list (https://realpython.com/introduction-to-python-generators/)\n",
    "all_files = cram_path.glob('*')\n",
    "cram_files = cram_path.glob('*.cram')\n",
    "crai_files = cram_path.glob('*.cram.crai')"
   ]
  },
  {
   "cell_type": "code",
   "execution_count": null,
   "id": "6b4e760d",
   "metadata": {},
   "outputs": [],
   "source": [
    "# get all files by making a list from the generator\n",
    "# this reads every element in the generator and stores it\n",
    "cram_list = list(cram_files)\n",
    "\n",
    "# this also 'exhausts' the generator, so it can't be reused\n",
    "empty_list = list(cram_files)\n",
    "assert empty_list == []"
   ]
  },
  {
   "cell_type": "code",
   "execution_count": null,
   "id": "e9e84ca9",
   "metadata": {},
   "outputs": [],
   "source": [
    "# pick an example file from the list\n",
    "example_file = cram_list[0]\n",
    "\n",
    "# identify the data type\n",
    "print(type(example_file))\n",
    "# <class 'cloudpathlib.gs.gspath.GSPath'>\n",
    "# API reference: https://cloudpathlib.drivendata.org/stable/api-reference/gspath/\n",
    "# reference states that a GSPath mimics the interface of Pathlib.Path\n",
    "# https://docs.python.org/3/library/pathlib.html#pathlib.Path"
   ]
  },
  {
   "cell_type": "code",
   "execution_count": null,
   "id": "892ebbc8",
   "metadata": {},
   "outputs": [],
   "source": [
    "# we can use any of these standard Path operations on GSPaths\n",
    "# printing will usually produce a string representation\n",
    "print('full path:', example_file)\n",
    "print('parent folder;', example_file.parent)\n",
    "print('filename only:', example_file.name)\n",
    "print('the filename - extension:', example_file.stem)\n",
    "print('the final suffix:', example_file.suffix)\n",
    "print('all suffixes:', example_file.suffixes)\n",
    "\n",
    "# note that a .suffix is a single string, but suffixes will be all suffixes in order\n",
    "crai_example = AnyPath('gs://bucket/path/filename.cram.crai')\n",
    "print(crai_example)\n",
    "print(crai_example.suffix)\n",
    "print(crai_example.suffixes)"
   ]
  },
  {
   "cell_type": "code",
   "execution_count": null,
   "id": "bd21aa83",
   "metadata": {},
   "outputs": [],
   "source": [
    "## Q. how to get all samples with both a cram and a crai file\n",
    "## A. Sets!\n",
    "# get all cram & crai files\n",
    "cram_files = cram_path.glob('*.cram')\n",
    "crai_files = cram_path.glob('*.cram.crai')\n",
    "\n",
    "# get all file names using a comprehension (https://www.w3schools.com/python/python_lists_comprehension.asp)\n",
    "# comprehensions can be sets, lists, dictionaries... very useful\n",
    "cram_names = {elem.stem for elem in cram_files}\n",
    "\n",
    "# # this is the equivalent of doing\n",
    "# cram_names = {}\n",
    "# for elem in cram_files:\n",
    "#     cram_names.add(elem.stem)\n",
    "\n",
    "# .stem only removes one suffix, which is pretty irritating... so our sample.cram and sample.cram.crai \n",
    "# files won't automatically match"
   ]
  },
  {
   "cell_type": "code",
   "execution_count": null,
   "id": "7cce6951",
   "metadata": {},
   "outputs": [],
   "source": [
    "# instead, we can do something different... match the partial paths\n",
    "# take the full name from the cram\n",
    "cram_files = {elem.name for elem in cram_path.glob('*.cram')}\n",
    "# trim one suffix from the cram.crai\n",
    "crai_files = {elem.stem for elem in cram_path.glob('*.cram.crai')}\n",
    "print(cram_files.intersection(crai_files))"
   ]
  },
  {
   "cell_type": "code",
   "execution_count": null,
   "id": "db554242",
   "metadata": {},
   "outputs": [],
   "source": [
    "# this leaves us with the CRAM files that also have a .CRAI in the same folder\n",
    "# assume the URL we want to embed into is this one:\n",
    "# http://localhost:60151/load?file=gs://BUCKET/FOLDER/SAMPLE.cram&genome=hg38&name=EXT_SAMPLE\n",
    "# we can use string formatting for shove our cram files into this String using f-formatting\n",
    "# https://realpython.com/python-f-strings/\n",
    "urls = [\n",
    "    f'http://localhost:60151/load?file={cram_path}/{elem}&genome=hg38' \n",
    "    for elem in cram_files.intersection(crai_files)\n",
    "]\n",
    "# adding newlines in code is fine, so long as the clause is within brackets to provide context\n",
    "print(urls)"
   ]
  },
  {
   "cell_type": "code",
   "execution_count": null,
   "id": "5bbe95f5",
   "metadata": {},
   "outputs": [],
   "source": [
    "# now... need to get the external sample IDs to rename the CRAMs in IGV\n",
    "# these details will be stored against participants, so we load the Participant Client\n",
    "from sample_metadata.apis import ParticipantApi\n",
    "# create a client instance (by default this will know how to find the CPG sample-metadata API)\n",
    "p = ParticipantApi()\n",
    "\n",
    "participant_map = p.get_external_participant_id_to_internal_sample_id('perth-neuro')\n",
    "# >>> [['EXT_1', 'INT_1'], ['EXT_2', 'INT_2'], ...]\n",
    "# where EXT is the External ID (format will be specific to a project, collaborator, or source)\n",
    "# the INT ID is always in the format CPG#####\n",
    "# note that the EXT:INT is not a 1:1 mapping, ext. samples can each be used to generate multiple int. sequences\n",
    "# we can use a dictionary comprehension to reverse this mapping (https://www.datacamp.com/tutorial/python-dictionary-comprehension)"
   ]
  },
  {
   "cell_type": "code",
   "execution_count": null,
   "id": "3b1203fd",
   "metadata": {},
   "outputs": [],
   "source": [
    "# take the list of (external, internal) pairs\n",
    "# reverse each pair\n",
    "# make into a dictionary\n",
    "cpg_to_ext_map = {cpg: ext for (ext, cpg) in participant_map}"
   ]
  },
  {
   "cell_type": "code",
   "execution_count": null,
   "id": "f7b76633",
   "metadata": {},
   "outputs": [],
   "source": [
    "# now we have a way of going from the CPG ID to the external ID, so we can extend the URL string\n",
    "# http://localhost:60151/load?file=gs://BUCKET/FOLDER/SAMPLE.cram&genome=hg38&name=EXT_SAMPLE\n",
    "crams_with_indices = cram_files.intersection(crai_files)\n",
    "urls = [\n",
    "    f'http://localhost:60151/load?file={cram_path}/{elem}&genome=hg38&name={cpg_to_ext_map[AnyPath(elem).stem]}' \n",
    "    for elem in crams_with_indices\n",
    "]"
   ]
  },
  {
   "cell_type": "markdown",
   "id": "700b009b",
   "metadata": {},
   "source": [
    "That looks completely awful, admittedly\n",
    "it's a few simple steps\n",
    "\n",
    "`crams_with_indices = cram_files.intersection(crai_files)`\n",
    "this just checks for intersecting values between two sets, and stores the result as a set\n",
    "in this case, all samples with both a cram and crai file present.\n",
    "\n",
    "`urls = [<FORMATTING> for elem in crams_with_indices]`\n",
    "this scrolls through the intersection-set, and assigns each element in turn to `elem`\n",
    "`elem` by name is used in the formatting command, so it changes each time\n",
    "\n",
    "we know that each element of the intersection will be a CRAM file (CPG####.cram), so\n",
    "`AnyPath(elem).stem` just loads that string as an AnyPath instance, and `.stem`\n",
    "removes the extension. This is overkill, there are much simpler ways to do that part...\n",
    "\n",
    "`cpg_to_ext_map[AnyPath(elem).stem]` takes the CPG#### ID, and uses it as a key\n",
    "in the Internal -> External dict, pulling out the external ID as a String\n",
    "\n",
    "I don't know about you, but when I ran this, there was an exception looking up an external ID\n",
    "that was because one sample was present on file but not in the sample_metadata API :thinking_face:\n",
    "we could pre-filter the dictionary, and skip samples where we don't have the result...\n",
    "\n",
    "OR we can use this to learn about Exceptions in Python! (yaaay)\n",
    "https://docs.python.org/3/tutorial/errors.html"
   ]
  },
  {
   "cell_type": "code",
   "execution_count": null,
   "id": "5675a9c6",
   "metadata": {},
   "outputs": [],
   "source": [
    "# get the intersecting samples\n",
    "crams_with_indices = cram_files.intersection(crai_files)\n",
    "\n",
    "# create this string once, without f-formatting\n",
    "format_string = 'http://localhost:60151/load?file=gs://cpg-perth-neuro-test/cram/{internal}&genome=hg38&name={external}' \n",
    "\n",
    "# create an empty list\n",
    "urls = []\n",
    "\n",
    "# and keep track of these\n",
    "problems = []\n",
    "\n",
    "# loop over all the cram files\n",
    "for cram_name in crams_with_indices:\n",
    "    # indent this whole section inside a `try` so Python knows we might have to handle problems\n",
    "    try:\n",
    "        # split on '.', and take the first part. CPG###.cram -> CPG###\n",
    "        cpg_id = cram_name.split('.')[0]\n",
    "        ext_id = cpg_to_ext_map[cpg_id]\n",
    "        \n",
    "        # you .append to lists, and .add to sets\n",
    "        # tell the formatter which variables to put where\n",
    "        urls.append(format_string.format(internal=cpg_id, external=ext_id))\n",
    "    \n",
    "    # failing to find a dictionary key will be a KeyError\n",
    "    # this except can be anywhere after the problem\n",
    "    # i.e. it won't fail to catch the problem unless the next line is an `except`\n",
    "    except KeyError as ke:\n",
    "        # print an explanatory message, but let the code continue\n",
    "        print(f'There was a problem looking up Ext. ID for sample {cpg_id}')\n",
    "        problems.append(cpg_id)"
   ]
  },
  {
   "cell_type": "code",
   "execution_count": null,
   "id": "5ccb1555",
   "metadata": {},
   "outputs": [],
   "source": [
    "for url in urls:\n",
    "    print(url)"
   ]
  },
  {
   "cell_type": "code",
   "execution_count": null,
   "id": "77423414",
   "metadata": {},
   "outputs": [],
   "source": [
    "# mention these to someone...\n",
    "print(problems)"
   ]
  },
  {
   "cell_type": "code",
   "execution_count": null,
   "id": "e966de50",
   "metadata": {},
   "outputs": [],
   "source": [
    "# and then we want to write these to a file\n",
    "# by default python doesn't add line separators between the things we print\n",
    "# we could add `\\n` to each print, or let the OS determine what the correct newline is for the platform\n",
    "from os import linesep\n",
    "with open('output_file.txt', 'w') as handle:\n",
    "    for url in urls:\n",
    "        handle.write(url + linesep)"
   ]
  }
 ],
 "metadata": {
  "kernelspec": {
   "display_name": "Python 3 (ipykernel)",
   "language": "python",
   "name": "python3"
  },
  "language_info": {
   "codemirror_mode": {
    "name": "ipython",
    "version": 3
   },
   "file_extension": ".py",
   "mimetype": "text/x-python",
   "name": "python",
   "nbconvert_exporter": "python",
   "pygments_lexer": "ipython3",
   "version": "3.10.4"
  }
 },
 "nbformat": 4,
 "nbformat_minor": 5
}
